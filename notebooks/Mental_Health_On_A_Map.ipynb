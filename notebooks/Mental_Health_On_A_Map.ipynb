{
 "cells": [
  {
   "cell_type": "markdown",
   "metadata": {},
   "source": [
    "# Mental Health On a Map\n",
    "\n",
    "This notebook seeks to explore relationships and patterns of the attributes of the business listings for mental health services in the Inland Empire. "
   ]
  },
  {
   "cell_type": "markdown",
   "metadata": {},
   "source": [
    "## Introduction\n",
    "\n",
    "\n",
    "\n",
    "The state of good mental health in America is in steady decline. More and more Americans are getting depressed and / or suffer from various mental health disorders such as addiction, social anxiety disorder (SAD), and obsessive compulsive disorder (OCD). Poor mental health not only affects the lives of the patients, but also the patients' families and loved ones which spirals into a domino effect that causes the emergence of a mentally moribund society. One of the most dangerous effects of poor mental health is the attempt to commit suicide. I believe that it's time to not depend solely on appointments at insured hospitals for mental health consultations, but to actually increase the possible mental health support through a personalized network. In this project, I use a geospatial information systems (GIS) and a cognitive intelligence solution to help patients navigate their mental health by doing nothing more than just simply going about their lives and let the heavy lifting be done by advances in technology. I was inspired to do this project after hearing that a Harvey Mudd student committed suicide in the late summer of this year, 2018.\n",
    "\n",
    "## Exploratory Data Analysis\n",
    "\n",
    "This part of the project is about completing 3 objectives through an initial exploration of the data conducted in Python data science stack: \n",
    "\n",
    "1. To build an efficient search strategy to find as many mental health services in the Inland Empire as possible.\n",
    "\n",
    "2. To understand the frequency of mental health services in the Inland Empire. \n",
    "\n",
    "3. To find interesting relationships between attributes of the data collected. \n",
    "\n",
    "\n",
    "\n",
    "\n",
    "\n"
   ]
  },
  {
   "cell_type": "markdown",
   "metadata": {},
   "source": [
    "### Objective 1: An Efficient Search Strategy\n",
    "\n",
    "At first I had to think about what kind of mental health support services are out there. Clearly, hospitals with psychotherapy services cannot be the only kinds of mental health support since many hospitals also have an outpatient network  Finding the mental health support structures that are available to the public required the use of the North American Industry Classification System which has codes for several categories of businesses throughout the United States. I used the following codes for my search: \n",
    "\n",
    "* 621330: Social workers' mental health offices (centers and clinics)\n",
    "* 621140: Mental health centers and clinics (except hospitals), outpatient\n",
    "* 622210: Mental health hospitals \n",
    "\n",
    "\n",
    "\n"
   ]
  },
  {
   "cell_type": "code",
   "execution_count": null,
   "metadata": {},
   "outputs": [],
   "source": []
  }
 ],
 "metadata": {
  "kernelspec": {
   "display_name": "Python 3",
   "language": "python",
   "name": "python3"
  },
  "language_info": {
   "codemirror_mode": {
    "name": "ipython",
    "version": 3
   },
   "file_extension": ".py",
   "mimetype": "text/x-python",
   "name": "python",
   "nbconvert_exporter": "python",
   "pygments_lexer": "ipython3",
   "version": "3.6.4"
  },
  "latex_envs": {
   "LaTeX_envs_menu_present": true,
   "autoclose": false,
   "autocomplete": true,
   "bibliofile": "biblio.bib",
   "cite_by": "apalike",
   "current_citInitial": 1,
   "eqLabelWithNumbers": true,
   "eqNumInitial": 1,
   "hotkeys": {
    "equation": "Ctrl-E",
    "itemize": "Ctrl-I"
   },
   "labels_anchors": false,
   "latex_user_defs": false,
   "report_style_numbering": false,
   "user_envs_cfg": false
  },
  "nbTranslate": {
   "displayLangs": [
    "*"
   ],
   "hotkey": "alt-t",
   "langInMainMenu": true,
   "sourceLang": "en",
   "targetLang": "fr",
   "useGoogleTranslate": true
  },
  "toc": {
   "base_numbering": 1,
   "nav_menu": {},
   "number_sections": true,
   "sideBar": true,
   "skip_h1_title": false,
   "title_cell": "Table of Contents",
   "title_sidebar": "Contents",
   "toc_cell": false,
   "toc_position": {},
   "toc_section_display": true,
   "toc_window_display": false
  }
 },
 "nbformat": 4,
 "nbformat_minor": 2
}
